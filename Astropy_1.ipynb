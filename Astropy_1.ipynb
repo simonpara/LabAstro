{
 "cells": [
  {
   "cell_type": "code",
   "execution_count": 152,
   "metadata": {},
   "outputs": [],
   "source": [
    "import numpy as np\n",
    "import astropy.units as u\n",
    "from astropy.table import Table\n",
    "\n",
    "import matplotlib.pyplot as plt\n",
    "%matplotlib inline \n",
    "#%matplotlib notebook"
   ]
  },
  {
   "cell_type": "markdown",
   "metadata": {},
   "source": [
    "IPython has a set of predefined ‘magic functions’ that you can call with a command line style syntax. There are two kinds of magics, line-oriented and cell-oriented. Line magics are prefixed with the % character and work much like OS command-line calls: they get as an argument the rest of the line, where arguments are passed without parentheses or quotes. Lines magics can return results and can be used in the right hand side of an assignment. Cell magics are prefixed with a double %%, and they are functions that get as an argument not only the rest of the line, but also the lines below it in a separate argument."
   ]
  },
  {
   "cell_type": "code",
   "execution_count": 157,
   "metadata": {},
   "outputs": [
    {
     "name": "stdout",
     "output_type": "stream",
     "text": [
      "        data        stato ricoverati_con_sintomi ...  note_it    note_en  \n",
      "------------------- ----- ---------------------- ... ---------- ----------\n",
      "2020-02-24T18:00:00   ITA                    101 ...         --         --\n",
      "2020-02-25T18:00:00   ITA                    114 ...         --         --\n",
      "2020-02-26T18:00:00   ITA                    128 ...         --         --\n",
      "2020-02-27T18:00:00   ITA                    248 ...         --         --\n",
      "2020-02-28T18:00:00   ITA                    345 ...         --         --\n",
      "2020-02-29T18:00:00   ITA                    401 ...         --         --\n",
      "2020-03-01T18:00:00   ITA                    639 ...         --         --\n",
      "2020-03-02T18:00:00   ITA                    742 ...         --         --\n",
      "2020-03-03T18:00:00   ITA                   1034 ...         --         --\n",
      "2020-03-04T18:00:00   ITA                   1346 ...         --         --\n",
      "                ...   ...                    ... ...        ...        ...\n",
      "2020-03-22T17:00:00   ITA                  19846 ...         --         --\n",
      "2020-03-23T17:00:00   ITA                  20692 ...         --         --\n",
      "2020-03-24T17:00:00   ITA                  21937 ...         --         --\n",
      "2020-03-25T17:00:00   ITA                  23112 ...         --         --\n",
      "2020-03-26T17:00:00   ITA                  24753 ... pd-IT-0007 pd-EN-0007\n",
      "2020-03-27T17:00:00   ITA                  26029 ...         --         --\n",
      "2020-03-28T17:00:00   ITA                  26676 ...         --         --\n",
      "2020-03-29T17:00:00   ITA                  27386 ... pd-IT-0009 pd-EN-0009\n",
      "2020-03-30T17:00:00   ITA                  27795 ...         --         --\n",
      "2020-03-31T17:00:00   ITA                  28192 ...         --         --\n",
      "2020-04-01T17:00:00   ITA                  28403 ...         --         --\n",
      "Length = 38 rows\n"
     ]
    }
   ],
   "source": [
    "data = Table.read(\"Data/dpc-covid19-ita-andamento-nazionale.csv\",format=\"ascii.csv\")\n",
    "print(data)"
   ]
  },
  {
   "cell_type": "markdown",
   "metadata": {},
   "source": [
    "https://docs.astropy.org/en/stable/io/ascii/read.html\n",
    "By default, read() will interpret blank entries as being bad/missing and output a masked Table with those entries masked out by setting the corresponding mask value set to True.\n",
    "If you want to replace the masked (missing) values with particular values, set the masked column fill_value attribute and then get the “filled” version of the table.\n",
    "\n",
    "The default in read() is fill_values=('','0'). This marks blank entries as being missing for any data type (int, float, or string). If fill_values is explicitly set in the call to read() then the default behavior of marking blank entries as missing no longer applies. For instance setting fill_values=None will disable this auto-masking without setting any other fill values. This can be useful for a string column where one of values happens to be \"\"."
   ]
  },
  {
   "cell_type": "code",
   "execution_count": 54,
   "metadata": {},
   "outputs": [
    {
     "data": {
      "text/plain": [
       "['data',\n",
       " 'stato',\n",
       " 'ricoverati_con_sintomi',\n",
       " 'terapia_intensiva',\n",
       " 'totale_ospedalizzati',\n",
       " 'isolamento_domiciliare',\n",
       " 'totale_positivi',\n",
       " 'variazione_totale_positivi',\n",
       " 'nuovi_positivi',\n",
       " 'dimessi_guariti',\n",
       " 'deceduti',\n",
       " 'totale_casi',\n",
       " 'tamponi',\n",
       " 'note_it',\n",
       " 'note_en']"
      ]
     },
     "execution_count": 54,
     "metadata": {},
     "output_type": "execute_result"
    }
   ],
   "source": [
    "data.keys() #Il metodo keys ci fornisce tutte le colonne della tabella"
   ]
  },
  {
   "cell_type": "code",
   "execution_count": 158,
   "metadata": {},
   "outputs": [
    {
     "name": "stdout",
     "output_type": "stream",
     "text": [
      "        data        totale_positivi\n",
      "------------------- ---------------\n",
      "2020-02-24T18:00:00             221\n",
      "2020-02-25T18:00:00             311\n",
      "2020-02-26T18:00:00             385\n",
      "2020-02-27T18:00:00             588\n",
      "2020-02-28T18:00:00             821\n",
      "2020-02-29T18:00:00            1049\n",
      "2020-03-01T18:00:00            1577\n",
      "2020-03-02T18:00:00            1835\n",
      "2020-03-03T18:00:00            2263\n",
      "2020-03-04T18:00:00            2706\n",
      "                ...             ...\n",
      "2020-03-22T17:00:00           46638\n",
      "2020-03-23T17:00:00           50418\n",
      "2020-03-24T17:00:00           54030\n",
      "2020-03-25T17:00:00           57521\n",
      "2020-03-26T17:00:00           62013\n",
      "2020-03-27T17:00:00           66414\n",
      "2020-03-28T17:00:00           70065\n",
      "2020-03-29T17:00:00           73880\n",
      "2020-03-30T17:00:00           75528\n",
      "2020-03-31T17:00:00           77635\n",
      "2020-04-01T17:00:00           80572\n",
      "Length = 38 rows\n"
     ]
    }
   ],
   "source": [
    "print(data[\"data\",\"totale_positivi\"])\n",
    "day = data[\"data\"] #In questa maniera sto solamente creando una Table filtrata\n",
    "day = np.array(data[\"data\"],dtype='datetime64[D]') #Questo specifica la conversione a numpy array della colonna \"data\"\n",
    "report = np.array(data[\"totale_positivi\",\"nuovi_positivi\",\"deceduti\"])"
   ]
  },
  {
   "cell_type": "code",
   "execution_count": 162,
   "metadata": {},
   "outputs": [
    {
     "name": "stdout",
     "output_type": "stream",
     "text": [
      "['2020-02-24' '2020-02-25' '2020-02-26' '2020-02-27' '2020-02-28'\n",
      " '2020-02-29' '2020-03-01' '2020-03-02' '2020-03-03' '2020-03-04'\n",
      " '2020-03-05' '2020-03-06' '2020-03-07' '2020-03-08' '2020-03-09'\n",
      " '2020-03-10' '2020-03-11' '2020-03-12' '2020-03-13' '2020-03-14'\n",
      " '2020-03-15' '2020-03-16' '2020-03-17' '2020-03-18' '2020-03-19'\n",
      " '2020-03-20' '2020-03-21' '2020-03-22' '2020-03-23' '2020-03-24'\n",
      " '2020-03-25' '2020-03-26' '2020-03-27' '2020-03-28' '2020-03-29'\n",
      " '2020-03-30' '2020-03-31' '2020-04-01']\n",
      "[(  221,  221,     7) (  311,   93,    10) (  385,   78,    12)\n",
      " (  588,  250,    17) (  821,  238,    21) ( 1049,  240,    29)\n",
      " ( 1577,  566,    34) ( 1835,  342,    52) ( 2263,  466,    79)\n",
      " ( 2706,  587,   107) ( 3296,  769,   148) ( 3916,  778,   197)\n",
      " ( 5061, 1247,   233) ( 6387, 1492,   366) ( 7985, 1797,   463)\n",
      " ( 8514,  977,   631) (10590, 2313,   827) (12839, 2651,  1016)\n",
      " (14955, 2547,  1266) (17750, 3497,  1441) (20603, 3590,  1809)\n",
      " (23073, 3233,  2158) (26062, 3526,  2503) (28710, 4207,  2978)\n",
      " (33190, 5322,  3405) (37860, 5986,  4032) (42681, 6557,  4825)\n",
      " (46638, 5560,  5476) (50418, 4789,  6077) (54030, 5249,  6820)\n",
      " (57521, 5210,  7503) (62013, 6153,  8165) (66414, 5959,  9134)\n",
      " (70065, 5974, 10023) (73880, 5217, 10779) (75528, 4050, 11591)\n",
      " (77635, 4053, 12428) (80572, 4782, 13155)]\n"
     ]
    }
   ],
   "source": [
    "print(day)\n",
    "print(report)"
   ]
  },
  {
   "cell_type": "code",
   "execution_count": 138,
   "metadata": {},
   "outputs": [
    {
     "name": "stdout",
     "output_type": "stream",
     "text": [
      "[[  221   311   385   588   821  1049  1577  1835  2263  2706  3296  3916\n",
      "   5061  6387  7985  8514 10590 12839 14955 17750 20603 23073 26062 28710\n",
      "  33190 37860 42681 46638 50418 54030 57521 62013 66414 70065 73880 75528\n",
      "  77635 80572]\n",
      " [  221    93    78   250   238   240   566   342   466   587   769   778\n",
      "   1247  1492  1797   977  2313  2651  2547  3497  3590  3233  3526  4207\n",
      "   5322  5986  6557  5560  4789  5249  5210  6153  5959  5974  5217  4050\n",
      "   4053  4782]\n",
      " [    7    10    12    17    21    29    34    52    79   107   148   197\n",
      "    233   366   463   631   827  1016  1266  1441  1809  2158  2503  2978\n",
      "   3405  4032  4825  5476  6077  6820  7503  8165  9134 10023 10779 11591\n",
      "  12428 13155]]\n"
     ]
    }
   ],
   "source": [
    "report = np.array([data[\"totale_positivi\"],data[\"nuovi_positivi\"],data[\"deceduti\"]])\n",
    "print(report)"
   ]
  },
  {
   "cell_type": "code",
   "execution_count": 165,
   "metadata": {},
   "outputs": [
    {
     "data": {
      "text/plain": [
       "[<matplotlib.lines.Line2D at 0x15273e4518>]"
      ]
     },
     "execution_count": 165,
     "metadata": {},
     "output_type": "execute_result"
    },
    {
     "data": {
      "image/png": "[encoded data removed]",
      "text/plain": [
       "<Figure size 432x288 with 2 Axes>"
      ]
     },
     "metadata": {
      "needs_background": "light"
     },
     "output_type": "display_data"
    }
   ],
   "source": [
    "fig, ax = plt.subplots(2,1,sharex=True)\n",
    "ax[0].plot(day,data[\"totale_positivi\"])\n",
    "ax[1].plot(day,data[\"nuovi_positivi\"])"
   ]
  },
  {
   "cell_type": "code",
   "execution_count": 140,
   "metadata": {},
   "outputs": [
    {
     "data": {
      "text/plain": [
       "[<matplotlib.lines.Line2D at 0x15271e3dd8>]"
      ]
     },
     "execution_count": 140,
     "metadata": {},
     "output_type": "execute_result"
    },
    {
     "data": {
      "image/png": "[encoded data removed]",
      "text/plain": [
       "<Figure size 432x288 with 2 Axes>"
      ]
     },
     "metadata": {
      "needs_background": "light"
     },
     "output_type": "display_data"
    }
   ],
   "source": [
    "import matplotlib.dates as  mdates\n",
    "fig, ax = plt.subplots(2,1,sharex=True)\n",
    "ax[0].plot(day,data[\"totale_positivi\"])\n",
    "ax[1].xaxis.set_major_formatter(mdates.DateFormatter('%Y-%m-%d'))\n",
    "ax[1].xaxis.set_major_locator(mdates.DayLocator(interval=10))\n",
    "ax[1].xaxis.set_minor_locator(mdates.DayLocator(interval=1))\n",
    "ax[1].tick_params(labelrotation=45)\n",
    "ax[1].plot(day,data[\"nuovi_positivi\"])"
   ]
  },
  {
   "cell_type": "code",
   "execution_count": 169,
   "metadata": {},
   "outputs": [],
   "source": [
    "beam = Table.read(\"Data/beam_test.fits\")"
   ]
  },
  {
   "cell_type": "code",
   "execution_count": 170,
   "metadata": {},
   "outputs": [
    {
     "data": {
      "text/html": [
       "<i>Table length=1001</i>\n",
       "<table id=\"table90859110584\" class=\"table-striped table-bordered table-condensed\">\n",
       "<thead><tr><th>TEMPERATURE</th></tr></thead>\n",
       "<thead><tr><th>float64</th></tr></thead>\n",
       "<tr><td>1.0</td></tr>\n",
       "<tr><td>0.9999450677537193</td></tr>\n",
       "<tr><td>0.999835212313647</td></tr>\n",
       "<tr><td>0.9996704517822758</td></tr>\n",
       "<tr><td>0.9994508133071289</td></tr>\n",
       "<tr><td>0.9991763330733067</td></tr>\n",
       "<tr><td>0.9988470562935501</td></tr>\n",
       "<tr><td>0.9984630371958286</td></tr>\n",
       "<tr><td>0.9980243390084561</td></tr>\n",
       "<tr><td>0.9975310339427405</td></tr>\n",
       "<tr><td>...</td></tr>\n",
       "<tr><td>1.8759268612393746e-12</td></tr>\n",
       "<tr><td>1.7764350554168882e-12</td></tr>\n",
       "<tr><td>1.6821274967821812e-12</td></tr>\n",
       "<tr><td>1.5927390495393456e-12</td></tr>\n",
       "<tr><td>1.508017871229417e-12</td></tr>\n",
       "<tr><td>1.427724760186194e-12</td></tr>\n",
       "<tr><td>1.3516325343058164e-12</td></tr>\n",
       "<tr><td>1.2795254396637174e-12</td></tr>\n",
       "<tr><td>1.2111985875795207e-12</td></tr>\n",
       "<tr><td>1.146457418794257e-12</td></tr>\n",
       "</table>"
      ],
      "text/plain": [
       "<Table length=1001>\n",
       "     TEMPERATURE      \n",
       "       float64        \n",
       "----------------------\n",
       "                   1.0\n",
       "    0.9999450677537193\n",
       "     0.999835212313647\n",
       "    0.9996704517822758\n",
       "    0.9994508133071289\n",
       "    0.9991763330733067\n",
       "    0.9988470562935501\n",
       "    0.9984630371958286\n",
       "    0.9980243390084561\n",
       "    0.9975310339427405\n",
       "                   ...\n",
       "1.8759268612393746e-12\n",
       "1.7764350554168882e-12\n",
       "1.6821274967821812e-12\n",
       "1.5927390495393456e-12\n",
       " 1.508017871229417e-12\n",
       " 1.427724760186194e-12\n",
       "1.3516325343058164e-12\n",
       "1.2795254396637174e-12\n",
       "1.2111985875795207e-12\n",
       " 1.146457418794257e-12"
      ]
     },
     "execution_count": 170,
     "metadata": {},
     "output_type": "execute_result"
    }
   ],
   "source": [
    "beam"
   ]
  },
  {
   "cell_type": "code",
   "execution_count": 189,
   "metadata": {},
   "outputs": [
    {
     "name": "stdout",
     "output_type": "stream",
     "text": [
      "Filename: Data/beam_test.fits\n",
      "No.    Name      Ver    Type      Cards   Dimensions   Format\n",
      "  0  PRIMARY       1 PrimaryHDU       4   ()      \n",
      "  1                1 BinTableHDU     11   1001R x 1C   [D]   \n",
      "ColDefs(\n",
      "    name = 'TEMPERATURE'; format = 'D'\n",
      ")\n"
     ]
    }
   ],
   "source": [
    "import astropy\n",
    "hdulist = astropy.io.fits.open(\"Data/beam_test.fits\")\n",
    "hdulist.info()\n",
    "print(hdulist[1].columns)\n",
    "beam = Table(hdulist[1].data)"
   ]
  },
  {
   "cell_type": "code",
   "execution_count": 190,
   "metadata": {},
   "outputs": [
    {
     "name": "stdout",
     "output_type": "stream",
     "text": [
      "     TEMPERATURE      \n",
      "----------------------\n",
      "                   1.0\n",
      "    0.9999450677537193\n",
      "     0.999835212313647\n",
      "    0.9996704517822758\n",
      "    0.9994508133071289\n",
      "    0.9991763330733067\n",
      "    0.9988470562935501\n",
      "    0.9984630371958286\n",
      "    0.9980243390084561\n",
      "    0.9975310339427405\n",
      "                   ...\n",
      "1.9808820287766974e-12\n",
      "1.8759268612393746e-12\n",
      "1.7764350554168882e-12\n",
      "1.6821274967821812e-12\n",
      "1.5927390495393456e-12\n",
      " 1.508017871229417e-12\n",
      " 1.427724760186194e-12\n",
      "1.3516325343058164e-12\n",
      "1.2795254396637174e-12\n",
      "1.2111985875795207e-12\n",
      " 1.146457418794257e-12\n",
      "Length = 1001 rows\n",
      "['TEMPERATURE']\n"
     ]
    }
   ],
   "source": [
    "print(beam)\n",
    "print(beam.keys())"
   ]
  },
  {
   "cell_type": "code",
   "execution_count": 192,
   "metadata": {},
   "outputs": [],
   "source": [
    "beam[\"TEMPERATURE\"].unit = u.uK\n",
    "beam[\"TEMPERATURE\"].info.format = '1.3e'\n",
    "beam[\"TEMPERATURE\"].info.description = '$B_\\ell$'"
   ]
  },
  {
   "cell_type": "code",
   "execution_count": 193,
   "metadata": {},
   "outputs": [
    {
     "name": "stdout",
     "output_type": "stream",
     "text": [
      "TEMPERATURE\n",
      "     uK    \n",
      "-----------\n",
      "  1.000e+00\n",
      "  9.999e-01\n",
      "  9.998e-01\n",
      "  9.997e-01\n",
      "  9.995e-01\n",
      "  9.992e-01\n",
      "  9.988e-01\n",
      "  9.985e-01\n",
      "  9.980e-01\n",
      "  9.975e-01\n",
      "        ...\n",
      "  1.876e-12\n",
      "  1.776e-12\n",
      "  1.682e-12\n",
      "  1.593e-12\n",
      "  1.508e-12\n",
      "  1.428e-12\n",
      "  1.352e-12\n",
      "  1.280e-12\n",
      "  1.211e-12\n",
      "  1.146e-12\n",
      "Length = 1001 rows\n",
      "<Table length=1001>\n",
      "    name     dtype  unit format description\n",
      "----------- ------- ---- ------ -----------\n",
      "TEMPERATURE float64   uK   1.3e    $B_\\ell$\n",
      "\n",
      "<Table length=38>\n",
      "           name            dtype    class     n_bad\n",
      "-------------------------- ----- ------------ -----\n",
      "                      data str19       Column     0\n",
      "                     stato  str3       Column     0\n",
      "    ricoverati_con_sintomi int64       Column     0\n",
      "         terapia_intensiva int64       Column     0\n",
      "      totale_ospedalizzati int64       Column     0\n",
      "    isolamento_domiciliare int64       Column     0\n",
      "           totale_positivi int64       Column     0\n",
      "variazione_totale_positivi int64       Column     0\n",
      "            nuovi_positivi int64       Column     0\n",
      "           dimessi_guariti int64       Column     0\n",
      "                  deceduti int64       Column     0\n",
      "               totale_casi int64       Column     0\n",
      "                   tamponi int64       Column     0\n",
      "                   note_it str21 MaskedColumn    30\n",
      "                   note_en str21 MaskedColumn    30\n",
      "\n"
     ]
    }
   ],
   "source": [
    "print(beam)\n",
    "print(beam.info)\n",
    "print(data.info)"
   ]
  },
  {
   "cell_type": "code",
   "execution_count": 194,
   "metadata": {},
   "outputs": [
    {
     "name": "stdout",
     "output_type": "stream",
     "text": [
      "TEMPERATURE\n",
      "     uK    \n",
      "-----------\n",
      "  1.000e+00\n",
      "  9.999e-01\n",
      "  9.997e-01\n",
      "  9.993e-01\n",
      "  9.989e-01\n",
      "  9.984e-01\n",
      "  9.977e-01\n",
      "  9.969e-01\n",
      "  9.961e-01\n",
      "  9.951e-01\n",
      "        ...\n",
      "  3.519e-24\n",
      "  3.156e-24\n",
      "  2.830e-24\n",
      "  2.537e-24\n",
      "  2.274e-24\n",
      "  2.038e-24\n",
      "  1.827e-24\n",
      "  1.637e-24\n",
      "  1.467e-24\n",
      "  1.314e-24\n",
      "Length = 1001 rows\n"
     ]
    }
   ],
   "source": [
    "print(beam[\"TEMPERATURE\"]**2)"
   ]
  },
  {
   "cell_type": "code",
   "execution_count": 195,
   "metadata": {},
   "outputs": [
    {
     "name": "stdout",
     "output_type": "stream",
     "text": [
      "TEMPERATURE\n",
      "     uK    \n",
      "-----------\n",
      "  1.000e+00\n",
      "  9.999e-01\n",
      "  9.998e-01\n",
      "  9.997e-01\n",
      "  9.995e-01\n",
      "  9.992e-01\n",
      "  9.988e-01\n",
      "  9.985e-01\n",
      "  9.980e-01\n",
      "  9.975e-01\n",
      "        ...\n",
      "  1.876e-12\n",
      "  1.776e-12\n",
      "  1.682e-12\n",
      "  1.593e-12\n",
      "  1.508e-12\n",
      "  1.428e-12\n",
      "  1.352e-12\n",
      "  1.280e-12\n",
      "  1.211e-12\n",
      "  1.146e-12\n",
      "Length = 1001 rows\n",
      "<QTable length=1001>\n",
      "    name     dtype  unit format description  class  \n",
      "----------- ------- ---- ------ ----------- --------\n",
      "TEMPERATURE float64   uK   1.3e    $B_\\ell$ Quantity\n",
      "\n"
     ]
    }
   ],
   "source": [
    "from astropy.table import QTable\n",
    "beam = QTable(hdulist[1].data)\n",
    "beam[\"TEMPERATURE\"].unit = u.uK\n",
    "beam[\"TEMPERATURE\"].info.format = '1.3e'\n",
    "beam[\"TEMPERATURE\"].info.description = '$B_\\ell$'\n",
    "print(beam)\n",
    "print(beam.info)"
   ]
  },
  {
   "cell_type": "code",
   "execution_count": 196,
   "metadata": {},
   "outputs": [
    {
     "name": "stdout",
     "output_type": "stream",
     "text": [
      "[1.00000000e+00 9.99890139e-01 9.99670452e-01 ... 1.63718535e-24\n",
      " 1.46700202e-24 1.31436461e-24] uK2\n"
     ]
    }
   ],
   "source": [
    "print(beam[\"TEMPERATURE\"]**2.)"
   ]
  },
  {
   "cell_type": "code",
   "execution_count": 197,
   "metadata": {},
   "outputs": [
    {
     "data": {
      "image/png": "[encoded data removed]",
      "text/plain": [
       "<Figure size 432x288 with 1 Axes>"
      ]
     },
     "metadata": {
      "needs_background": "light"
     },
     "output_type": "display_data"
    }
   ],
   "source": [
    "el = np.arange(0,1001)\n",
    "plt.plot(el,beam[\"TEMPERATURE\"]**2)\n",
    "plt.yscale(\"log\")\n",
    "plt.show()"
   ]
  },
  {
   "cell_type": "code",
   "execution_count": null,
   "metadata": {},
   "outputs": [],
   "source": []
  }
 ],
 "metadata": {
  "kernelspec": {
   "display_name": "Python 3",
   "language": "python",
   "name": "python3"
  },
  "language_info": {
   "codemirror_mode": {
    "name": "ipython",
    "version": 3
   },
   "file_extension": ".py",
   "mimetype": "text/x-python",
   "name": "python",
   "nbconvert_exporter": "python",
   "pygments_lexer": "ipython3",
   "version": "3.6.8"
  }
 },
 "nbformat": 4,
 "nbformat_minor": 4
}
