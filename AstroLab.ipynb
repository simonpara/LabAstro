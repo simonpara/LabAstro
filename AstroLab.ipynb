{
 "cells": [
  {
   "cell_type": "code",
   "execution_count": 1,
   "metadata": {},
   "outputs": [],
   "source": [
    "import numpy as np"
   ]
  },
  {
   "cell_type": "code",
   "execution_count": 4,
   "metadata": {},
   "outputs": [],
   "source": [
    "N = 100\n",
    "d = np.random.exponential(10, size=N)"
   ]
  },
  {
   "cell_type": "code",
   "execution_count": 5,
   "metadata": {},
   "outputs": [
    {
     "data": {
      "text/plain": [
       "array([ 4.36892249,  8.90385188, 12.44472072, ..., 10.79772564,\n",
       "        2.83644417,  0.23369003])"
      ]
     },
     "execution_count": 5,
     "metadata": {},
     "output_type": "execute_result"
    }
   ],
   "source": [
    "d"
   ]
  },
  {
   "cell_type": "markdown",
   "metadata": {},
   "source": [
    "## Calcolo della media di una distribuzione esponenziale\n",
    "\n",
    "Sia\n",
    "$$\n",
    "p(x | \\lambda) = \\frac{1}{\\lambda} \\mathrm{e}^{-x / \\lambda} \\; .\n",
    "$$\n",
    "Calcolo\n",
    "$$\n",
    "\\langle x \\rangle = \\int p(x|\\lambda) x \\, \\mathrm{d} x\n",
    "$$\n",
    "$$\n",
    "\\int_0^\\infty \\frac{1}{\\lambda} \\mathrm{e}^{-x / \\lambda} x \\, \\mathrm{d} x = \\lambda \\int_0^\\infty \\mathrm{e}^{-y} y \\, \\mathrm{d} y = \\lambda\n",
    "$$"
   ]
  },
  {
   "cell_type": "markdown",
   "metadata": {},
   "source": [
    "$$\n",
    "p(d_i|\\lambda) = Z \\mathrm{e}^{-d_i / \\lambda}\n",
    "$$"
   ]
  },
  {
   "cell_type": "markdown",
   "metadata": {},
   "source": [
    "$$\n",
    "p(\\{ d_i \\}|\\lambda) = \\prod_{i=1}^N p(d_i|\\lambda)\n",
    "$$"
   ]
  },
  {
   "cell_type": "markdown",
   "metadata": {},
   "source": [
    "$$\n",
    "Z = \\int_1^{10} \\frac{1}{\\lambda} \\mathrm{e}^{-x/\\lambda} \\, \\mathrm{d}x = \\int_{1/\\lambda}^{10/\\lambda} \\mathrm{e}^{-y} \\, \\mathrm{d}y\n",
    "$$ "
   ]
  },
  {
   "cell_type": "markdown",
   "metadata": {},
   "source": [
    "$$\n",
    "Z = \\left. -\\mathrm{e}^{-y} \\right|_{1/\\lambda}^{10/\\lambda} = \\mathrm{e}^{-1/\\lambda} - \\mathrm{e}^{-10/\\lambda}\n",
    "$$"
   ]
  },
  {
   "cell_type": "code",
   "execution_count": 51,
   "metadata": {},
   "outputs": [],
   "source": [
    "def likelihood(data, l):\n",
    "    Z = np.exp(-1/l) - np.exp(-10/l)\n",
    "    like = np.exp(-data / l) / l / Z\n",
    "    return np.prod(like)\n",
    "\n",
    "def log_likelihood(data, l):\n",
    "    log_Z = np.log(np.exp(-1/l) - np.exp(-10/l))\n",
    "    log_like = -data / l - np.log(l) - log_Z\n",
    "    return np.sum(log_like)\n",
    "\n",
    "def log_prior(l):\n",
    "    if l >= 0 or l <= 100:\n",
    "        return -np.log(100)\n",
    "    else:\n",
    "        return -np.inf\n",
    "    \n",
    "def log_posterior(l, data):\n",
    "    return log_likelihood(data, l) + log_prior(l)"
   ]
  },
  {
   "cell_type": "code",
   "execution_count": 49,
   "metadata": {},
   "outputs": [
    {
     "data": {
      "text/plain": [
       "5363"
      ]
     },
     "execution_count": 49,
     "metadata": {},
     "output_type": "execute_result"
    }
   ],
   "source": [
    "N = 10000\n",
    "d = np.random.exponential(10, size=N)\n",
    "data = d[(d > 1) & (d < 10)]\n",
    "len(data)"
   ]
  },
  {
   "cell_type": "code",
   "execution_count": 70,
   "metadata": {},
   "outputs": [],
   "source": [
    "ls = np.linspace(0.1, 100, 1000)"
   ]
  },
  {
   "cell_type": "code",
   "execution_count": 74,
   "metadata": {},
   "outputs": [],
   "source": [
    "log_posts = np.zeros_like(ls)\n",
    "for n in range(len(ls)):\n",
    "    log_posts[n] = log_posterior(ls[n], data)"
   ]
  },
  {
   "cell_type": "code",
   "execution_count": 88,
   "metadata": {},
   "outputs": [],
   "source": [
    "from scipy.special import logsumexp\n",
    "\n",
    "log_posts -= logsumexp(log_posts)"
   ]
  },
  {
   "cell_type": "code",
   "execution_count": 90,
   "metadata": {},
   "outputs": [
    {
     "data": {
      "text/plain": [
       "1.0000000000001334"
      ]
     },
     "execution_count": 90,
     "metadata": {},
     "output_type": "execute_result"
    }
   ],
   "source": [
    "np.sum(np.exp(log_posts))"
   ]
  },
  {
   "cell_type": "code",
   "execution_count": 107,
   "metadata": {},
   "outputs": [
    {
     "data": {
      "text/plain": [
       "(5.0, 15.0)"
      ]
     },
     "execution_count": 107,
     "metadata": {},
     "output_type": "execute_result"
    },
    {
     "data": {
      "image/png": "[encoded data removed]",
      "text/plain": [
       "<Figure size 432x288 with 1 Axes>"
      ]
     },
     "metadata": {
      "needs_background": "light"
     },
     "output_type": "display_data"
    }
   ],
   "source": [
    "from matplotlib import pyplot as plt\n",
    "\n",
    "plt.plot(ls, np.exp(log_posts))\n",
    "plt.xlim(5, 15)"
   ]
  },
  {
   "cell_type": "code",
   "execution_count": 108,
   "metadata": {},
   "outputs": [],
   "source": [
    "posts = np.exp(log_posts)"
   ]
  },
  {
   "cell_type": "code",
   "execution_count": 115,
   "metadata": {},
   "outputs": [
    {
     "data": {
      "text/plain": [
       "0.9771547273693507"
      ]
     },
     "execution_count": 115,
     "metadata": {},
     "output_type": "execute_result"
    }
   ],
   "source": [
    "np.sum(posts[(ls > 8) & (ls < 11.5)])"
   ]
  },
  {
   "cell_type": "code",
   "execution_count": 116,
   "metadata": {},
   "outputs": [
    {
     "data": {
      "text/plain": [
       "0.002479095595868104"
      ]
     },
     "execution_count": 116,
     "metadata": {},
     "output_type": "execute_result"
    }
   ],
   "source": [
    "np.sum(posts[ls>12])"
   ]
  },
  {
   "cell_type": "code",
   "execution_count": null,
   "metadata": {},
   "outputs": [],
   "source": []
  }
 ],
 "metadata": {
  "kernelspec": {
   "display_name": "Python 3",
   "language": "python",
   "name": "python3"
  },
  "language_info": {
   "codemirror_mode": {
    "name": "ipython",
    "version": 3
   },
   "file_extension": ".py",
   "mimetype": "text/x-python",
   "name": "python",
   "nbconvert_exporter": "python",
   "pygments_lexer": "ipython3",
   "version": "3.7.7"
  }
 },
 "nbformat": 4,
 "nbformat_minor": 4
}
