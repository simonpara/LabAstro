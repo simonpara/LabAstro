{
 "cells": [
  {
   "cell_type": "markdown",
   "metadata": {},
   "source": [
    "# Libreria Numpy\n",
    "\n",
    "Nella documentazione ufficiale:\n",
    "- Quickstart, per iniziare a smanettare da subito: https://numpy.org/doc/stable/user/quickstart.html\n",
    "- Tutorial più completo con approccio teorico: https://numpy.org/doc/stable/user/absolute_beginners.html "
   ]
  },
  {
   "cell_type": "code",
   "execution_count": 1,
   "metadata": {},
   "outputs": [],
   "source": [
    "import numpy as np"
   ]
  },
  {
   "cell_type": "code",
   "execution_count": 8,
   "metadata": {},
   "outputs": [
    {
     "name": "stdout",
     "output_type": "stream",
     "text": [
      "(10,)\n",
      "[0 1 2 3 4 5 6 7 8 9]\n",
      "<class 'numpy.ndarray'>\n",
      "[[0]\n",
      " [1]\n",
      " [2]\n",
      " [3]\n",
      " [4]\n",
      " [5]\n",
      " [6]\n",
      " [7]\n",
      " [8]\n",
      " [9]]\n",
      "(10, 1)\n",
      "2\n",
      "2\n"
     ]
    }
   ],
   "source": [
    "# Prima prova semplice\n",
    "\n",
    "a = np.arange(10)\n",
    "print(np.shape(a)) # equivalente a a.shape\n",
    "print(a)\n",
    "print(type(a))\n",
    "\n",
    "a2 = a[:,np.newaxis]\n",
    "print(a2)\n",
    "print(a2.shape)\n",
    "\n",
    "print(a[2])\n",
    "print(a2[2,0])"
   ]
  },
  {
   "cell_type": "code",
   "execution_count": 23,
   "metadata": {},
   "outputs": [
    {
     "name": "stdout",
     "output_type": "stream",
     "text": [
      "[[ 1  2  3  4]\n",
      " [ 5  6  7  8]\n",
      " [ 9 10 11 12]]\n",
      "<class 'numpy.ndarray'>\n",
      "prendo un solo elemento nella posizione 1,1 6\n",
      "prendo la riga 0 [1 2 3 4]\n",
      "prendo la colonna 0 [1 5 9]\n",
      "è equivalente a prendere la riga 0 - numpy salva gli array row-wise [5 6 7 8]\n"
     ]
    }
   ],
   "source": [
    "b = np.arange(10)\n",
    "c = np.arange(10)\n",
    "\n",
    "a = np.array([[1, 2, 3, 4], [5, 6, 7, 8], [9, 10, 11, 12]])\n",
    "print(a)\n",
    "print(type(a))\n",
    "\n",
    "print('prendo un solo elemento nella posizione 1,1',a[1,1])\n",
    "print('prendo la riga 0', a[0,:])\n",
    "print('prendo la colonna 0',a[:,0])\n",
    "print('è equivalente a prendere la riga 0 - numpy salva gli array row-wise',a[1])"
   ]
  },
  {
   "cell_type": "markdown",
   "metadata": {},
   "source": [
    "# Creare Array "
   ]
  },
  {
   "cell_type": "code",
   "execution_count": 36,
   "metadata": {},
   "outputs": [
    {
     "name": "stdout",
     "output_type": "stream",
     "text": [
      "[1. 1. 1. 1. 1. 1.]\n",
      "[[1. 1. 1. 1. 1. 1.]\n",
      " [1. 1. 1. 1. 1. 1.]\n",
      " [1. 1. 1. 1. 1. 1.]\n",
      " [1. 1. 1. 1. 1. 1.]\n",
      " [1. 1. 1. 1. 1. 1.]\n",
      " [1. 1. 1. 1. 1. 1.]]\n",
      "[0. 0. 0. 0. 0. 0.]\n",
      "[ 1  3  5  7  9 11 13 15 17 19]\n",
      "[ 1.  2.  3.  4.  5.  6.  7.  8.  9. 10.]\n"
     ]
    }
   ],
   "source": [
    "array_per_elementi = np.array([1,2,3,4]) # o la sua variante N-dimensionale\n",
    "array_unitario = np.ones(6) # crea un array di 1 con dimensione 6\n",
    "print(array_unitario)\n",
    "matrice_unit = np.ones([6,6])\n",
    "print(matrice_unit)\n",
    "\n",
    "array_nullo = np.zeros(6) # crea un array di 0\n",
    "print(array_nullo) \n",
    "# analogo per matrici come per ones\n",
    "\n",
    "a = np.arange(1,20,2) \n",
    "print(a)\n",
    "\n",
    "b = np.linspace(1,10,num=10) # unico caso in cui gli estremi sono entrambi inclusi\n",
    "print(b)"
   ]
  },
  {
   "cell_type": "code",
   "execution_count": 38,
   "metadata": {},
   "outputs": [
    {
     "data": {
      "text/plain": [
       "array([-20,  -3,   0,   1,   2,   4,   7,  18])"
      ]
     },
     "execution_count": 38,
     "metadata": {},
     "output_type": "execute_result"
    }
   ],
   "source": [
    "c = np.array([1,2,4,7,0,-3,-20,18],)\n",
    "np.sort(c)"
   ]
  },
  {
   "cell_type": "code",
   "execution_count": 40,
   "metadata": {},
   "outputs": [
    {
     "data": {
      "text/plain": [
       "array([ 1.,  3.,  5.,  7.,  9., 11., 13., 15., 17., 19.,  1.,  2.,  3.,\n",
       "        4.,  5.,  6.,  7.,  8.,  9., 10.])"
      ]
     },
     "execution_count": 40,
     "metadata": {},
     "output_type": "execute_result"
    }
   ],
   "source": [
    "d = np.concatenate((a,b))\n",
    "d"
   ]
  },
  {
   "cell_type": "code",
   "execution_count": 44,
   "metadata": {},
   "outputs": [
    {
     "name": "stdout",
     "output_type": "stream",
     "text": [
      "(6, 6)\n",
      "2\n",
      "36\n"
     ]
    }
   ],
   "source": [
    "print(np.shape(matrice_unit))\n",
    "print(np.ndim(matrice_unit)) # mi dice il numero di assi dell'array\n",
    "print(np.size(matrice_unit)) # mi dice gli elementi totali"
   ]
  },
  {
   "cell_type": "code",
   "execution_count": 55,
   "metadata": {},
   "outputs": [
    {
     "name": "stdout",
     "output_type": "stream",
     "text": [
      "[[0 1]\n",
      " [2 3]\n",
      " [4 5]]\n"
     ]
    }
   ],
   "source": [
    "a = np.arange(6)\n",
    "#e = a.reshape(3,2)\n",
    "e = np.reshape(a, (3,2))\n",
    "print(e)"
   ]
  },
  {
   "cell_type": "code",
   "execution_count": 58,
   "metadata": {},
   "outputs": [
    {
     "name": "stdout",
     "output_type": "stream",
     "text": [
      "3\n"
     ]
    }
   ],
   "source": [
    "print(a[-3]) # con il \"-\" conta gli elementi dall'ultimo"
   ]
  },
  {
   "cell_type": "code",
   "execution_count": 66,
   "metadata": {},
   "outputs": [
    {
     "name": "stdout",
     "output_type": "stream",
     "text": [
      "[10 11 12 13 14 15 16 17 18 19]\n"
     ]
    }
   ],
   "source": [
    "a = np.arange(100)\n",
    "print(a[(a>=10) & (a<20)])"
   ]
  },
  {
   "cell_type": "code",
   "execution_count": 69,
   "metadata": {},
   "outputs": [
    {
     "name": "stdout",
     "output_type": "stream",
     "text": [
      "[4 3 2 1]\n"
     ]
    }
   ],
   "source": [
    "a = np.array([0,0,4,3,0,2,1])\n",
    "i = np.nonzero(a)\n",
    "print(a[i])"
   ]
  },
  {
   "cell_type": "markdown",
   "metadata": {},
   "source": [
    "# ATTENZIONE"
   ]
  },
  {
   "cell_type": "code",
   "execution_count": 76,
   "metadata": {},
   "outputs": [
    {
     "name": "stdout",
     "output_type": "stream",
     "text": [
      "[0 1 2 3 4 5 6 7 8 9]\n"
     ]
    }
   ],
   "source": [
    "a = np.arange(10)\n",
    "print(a)"
   ]
  },
  {
   "cell_type": "code",
   "execution_count": 77,
   "metadata": {},
   "outputs": [
    {
     "name": "stdout",
     "output_type": "stream",
     "text": [
      "[4 5 6 7 8 9]\n"
     ]
    }
   ],
   "source": [
    "b = a[4:]\n",
    "print(b)"
   ]
  },
  {
   "cell_type": "code",
   "execution_count": 78,
   "metadata": {},
   "outputs": [
    {
     "name": "stdout",
     "output_type": "stream",
     "text": [
      "[99  5  6  7  8  9]\n"
     ]
    }
   ],
   "source": [
    "b[0] = 99\n",
    "print(b)"
   ]
  },
  {
   "cell_type": "code",
   "execution_count": 79,
   "metadata": {},
   "outputs": [
    {
     "name": "stdout",
     "output_type": "stream",
     "text": [
      "[ 0  1  2  3 99  5  6  7  8  9]\n"
     ]
    }
   ],
   "source": [
    "print(a)"
   ]
  },
  {
   "cell_type": "code",
   "execution_count": 80,
   "metadata": {},
   "outputs": [
    {
     "name": "stdout",
     "output_type": "stream",
     "text": [
      "[0 1 2 3 4 5 6 7 8 9]\n",
      "[0 1 2 3 4 5 6 7 8 9]\n",
      "[0 1 2 3 4 5 6 7 8 9] [99  1  2  3  4  5  6  7  8  9]\n"
     ]
    }
   ],
   "source": [
    "# copia reale \n",
    "a = np.arange(10)\n",
    "print(a)\n",
    "b = a.copy()\n",
    "#b = np.copy(a)\n",
    "print(b)\n",
    "b[0]=99\n",
    "print(a,b)"
   ]
  },
  {
   "cell_type": "code",
   "execution_count": 81,
   "metadata": {},
   "outputs": [
    {
     "name": "stdout",
     "output_type": "stream",
     "text": [
      "[0 1 2 3 4 5 6 7 8 9]\n",
      "[0. 1. 2. 3. 4. 5. 6. 7. 8. 9.]\n",
      "[0 1 2 3 4 5 6 7 8 9] [99.  1.  2.  3.  4.  5.  6.  7.  8.  9.]\n"
     ]
    }
   ],
   "source": [
    "#oppure, ma meno elegante\n",
    "a = np.arange(10)\n",
    "print(a)\n",
    "b = np.zeros(len(a))\n",
    "b[:]=a[:] # se non metto le parentesi quadre non creo una copia ma un puntatore\n",
    "print(b)\n",
    "b[0]=99\n",
    "print(a,b)"
   ]
  },
  {
   "cell_type": "markdown",
   "metadata": {},
   "source": [
    "# Operazioni algebra lineare"
   ]
  },
  {
   "cell_type": "code",
   "execution_count": 85,
   "metadata": {},
   "outputs": [
    {
     "name": "stdout",
     "output_type": "stream",
     "text": [
      "[0.87642868 0.70157236 0.70720348 0.77372653 0.63308646 0.8958424\n",
      " 0.47395433 0.34574151 0.69792735 0.09261667]\n",
      "[[-1.19978184e+00 -2.06082060e+00  9.96132367e-01 -1.60436307e+00\n",
      "   2.59377050e-01 -1.44787653e-01  9.71175127e-01  1.20320962e+00\n",
      "  -2.66215429e-01 -1.19602770e+00]\n",
      " [-8.01398024e-01 -8.15304903e-02 -4.82920708e-01  2.73470869e-01\n",
      "  -1.67248114e+00  6.15484056e-01  6.22756560e-01 -4.83702634e-01\n",
      "   3.97144859e-01 -1.63391826e-01]\n",
      " [-5.78598241e-01  1.60255852e+00 -5.70274980e-01  3.95531344e-01\n",
      "   4.55581472e-01 -7.64261830e-02  1.90746889e+00 -4.40503559e-01\n",
      "   1.01909901e+00  1.64143454e+00]\n",
      " [-2.23500522e-01 -4.23268269e-01 -1.79290334e+00  2.03100272e-01\n",
      "  -8.76416272e-01 -2.26134905e-01  1.30937646e+00 -1.81262173e+00\n",
      "  -1.40834686e+00 -8.11861133e-01]\n",
      " [ 3.65037650e-01  7.40446942e-01 -1.18933590e+00 -7.33057364e-01\n",
      "   5.01601671e-01  6.46231369e-02 -4.66103026e-01 -1.43748347e-01\n",
      "  -9.11455418e-01  6.03897425e-01]\n",
      " [ 8.49825735e-01  8.12325520e-01  1.16785824e+00  1.85237882e-01\n",
      "  -1.24584257e-01 -7.67159733e-01 -1.69709184e+00  1.01276042e-02\n",
      "  -1.91329170e-01 -2.22733596e-01]\n",
      " [ 3.54862423e-01  1.25158780e+00  1.38994368e+00 -1.24093775e+00\n",
      "   1.65158443e+00 -1.01367133e+00  4.34641681e-01 -3.79064623e-01\n",
      "  -1.20017094e+00 -1.16842328e+00]\n",
      " [ 4.31777551e-01  6.79781357e-01  4.11473612e-01  8.59993323e-01\n",
      "   2.77169934e-01  4.77599345e-01 -5.41270130e-01  1.72288061e-01\n",
      "  -3.58280458e-01 -4.82445444e-01]\n",
      " [ 6.02848588e-01 -2.57239806e-01  8.13656086e-01 -3.22994518e-01\n",
      "   5.66125346e-01  3.74961583e-01  1.80941037e+00  1.24266369e+00\n",
      "  -5.40408652e-01 -6.44636808e-01]\n",
      " [ 4.84090623e-01  1.84901058e+00 -6.17545554e-01  2.75952521e-01\n",
      "  -6.84904396e-01 -8.06413530e-01 -3.08709433e-01  6.38502811e-04\n",
      "   1.90593672e+00 -1.24149497e+00]]\n"
     ]
    }
   ],
   "source": [
    "a = np.random.uniform(0,1,10) # genera 10 numeri distribuiti in maniera uniforme tra 0 e 1\n",
    "print(a)\n",
    "B = np.random.normal(0,1,(10,10)) # genera una matrice 10x10 con valori distribuiti come una Normale  con var=1 e media 0\n",
    "print(B)"
   ]
  },
  {
   "cell_type": "code",
   "execution_count": 88,
   "metadata": {},
   "outputs": [
    {
     "data": {
      "text/plain": [
       "array([[-1.05152321e+00, -1.44581476e+00,  7.04468273e-01,\n",
       "        -1.24133827e+00,  1.64208099e-01, -1.29706919e-01,\n",
       "         4.60292656e-01,  4.15999514e-01, -1.85799028e-01,\n",
       "        -1.10772100e-01],\n",
       "       [-7.02368211e-01, -5.71995382e-02, -3.41523203e-01,\n",
       "         2.11591667e-01, -1.05882517e+00,  5.51376716e-01,\n",
       "         2.95158168e-01, -1.67236081e-01,  2.77178258e-01,\n",
       "        -1.51328065e-02],\n",
       "       [-5.07100092e-01,  1.12431076e+00, -4.03300448e-01,\n",
       "         3.06033095e-01,  2.88422462e-01, -6.84658155e-02,\n",
       "         9.04053138e-01, -1.52300367e-01,  7.11257068e-01,\n",
       "         1.52024197e-01],\n",
       "       [-1.95882267e-01, -2.96953317e-01, -1.26794747e+00,\n",
       "         1.57144069e-01, -5.54847277e-01, -2.02581237e-01,\n",
       "         6.20584641e-01, -6.26698581e-01, -9.82923792e-01,\n",
       "        -7.51918727e-02],\n",
       "       [ 3.19929465e-01,  5.19477106e-01, -8.41102486e-01,\n",
       "        -5.67185932e-01,  3.17557227e-01,  5.78921463e-02,\n",
       "        -2.20911547e-01, -4.96997712e-02, -6.36129664e-01,\n",
       "         5.59309671e-02],\n",
       "       [ 7.44811646e-01,  5.69905129e-01,  8.25913410e-01,\n",
       "         1.43323464e-01, -7.88726063e-02, -6.87254219e-01,\n",
       "        -8.04344025e-01,  3.50153321e-03, -1.33533860e-01,\n",
       "        -2.06288434e-02],\n",
       "       [ 3.11011605e-01,  8.78079404e-01,  9.82973002e-01,\n",
       "        -9.60146462e-01,  1.04559574e+00, -9.08089760e-01,\n",
       "         2.06000307e-01, -1.31058377e-01, -8.37632121e-01,\n",
       "        -1.08215471e-01],\n",
       "       [ 3.78422228e-01,  4.76915809e-01,  2.90995569e-01,\n",
       "         6.65399651e-01,  1.75472533e-01,  4.27853745e-01,\n",
       "        -2.56537322e-01,  5.95671349e-02, -2.50053730e-01,\n",
       "        -4.46824893e-02],\n",
       "       [ 5.28353791e-01, -1.80472337e-01,  5.75420413e-01,\n",
       "        -2.49909428e-01,  3.58406292e-01,  3.35906486e-01,\n",
       "         8.57577879e-01,  4.29640424e-01, -3.77165978e-01,\n",
       "        -5.97041130e-02],\n",
       "       [ 4.24270905e-01,  1.29721471e+00, -4.36730363e-01,\n",
       "         2.13511787e-01, -4.33603700e-01, -7.22419435e-01,\n",
       "        -1.46314172e-01,  2.20756928e-04,  1.33020536e+00,\n",
       "        -1.14983127e-01]])"
      ]
     },
     "execution_count": 88,
     "metadata": {},
     "output_type": "execute_result"
    }
   ],
   "source": [
    "a + B # somma il vettore colonna a tutte le colonne della matrice\n",
    "a * B # fa il prodotto element wise del vettore per la matrice "
   ]
  },
  {
   "cell_type": "code",
   "execution_count": 92,
   "metadata": {},
   "outputs": [
    {
     "name": "stdout",
     "output_type": "stream",
     "text": [
      "[[ 0.16053969  1.15027006  1.40170454 -0.70695088 -1.080679   -0.04918908\n",
      "  -0.47425104  1.77842563  1.27409283 -0.02141231]\n",
      " [ 0.80409918 -0.81394595 -0.8499165   1.35289445 -1.24601416  1.13097043\n",
      "   0.70407552  0.2465398  -0.0708576  -1.17743181]\n",
      " [ 0.51286959 -0.28523441 -1.48799026 -0.38615742  0.60777564  0.65755376\n",
      "  -0.33177505 -1.48151772  1.63346646 -0.51643199]\n",
      " [ 1.09421869 -0.56366059  1.33376048  1.55683876  1.11242437  2.01171428\n",
      "  -0.42632092 -0.29531753 -0.8989578  -0.38024407]\n",
      " [ 0.38913677 -0.54125941 -1.38274293  0.435063   -0.51532185  1.7863757\n",
      "  -0.48618882 -0.31852081 -0.48818481 -0.63774936]]\n",
      "(5, 10)\n"
     ]
    }
   ],
   "source": [
    "C = np.random.normal(0,1,(5,10))\n",
    "print(C)\n",
    "print(np.shape(a*C)) # moltiplicazione element wise"
   ]
  },
  {
   "cell_type": "code",
   "execution_count": 98,
   "metadata": {},
   "outputs": [
    {
     "name": "stdout",
     "output_type": "stream",
     "text": [
      "[ 1.94111735  1.06417203  0.2948703   4.25101888 -0.14621593]\n"
     ]
    }
   ],
   "source": [
    "D = np.dot(C,a) # moltiplicazione riga per colonna\n",
    "print(D)"
   ]
  },
  {
   "cell_type": "markdown",
   "metadata": {},
   "source": [
    "$ a = a_\\mu$ \n",
    "\n",
    "$ C = C^i_j$\n",
    "\n",
    "$ D = C^i_j\\cdot a_\\mu = d_j $"
   ]
  },
  {
   "cell_type": "code",
   "execution_count": 100,
   "metadata": {},
   "outputs": [
    {
     "name": "stdout",
     "output_type": "stream",
     "text": [
      "[ 1.94111735  1.06417203  0.2948703   4.25101888 -0.14621593]\n"
     ]
    }
   ],
   "source": [
    "E = np.dot(a,C.T)\n",
    "print(E)"
   ]
  },
  {
   "cell_type": "code",
   "execution_count": null,
   "metadata": {},
   "outputs": [],
   "source": [
    "#trasposizione\n",
    "C.T #metodo che restituisce la trasposta di C\n",
    "np.transpose(C) # funzione equivalente"
   ]
  },
  {
   "cell_type": "code",
   "execution_count": 101,
   "metadata": {},
   "outputs": [
    {
     "name": "stdout",
     "output_type": "stream",
     "text": [
      "[21.00232421  6.44041614 17.158001   27.32457742 48.24850885 33.45812214\n",
      "  9.21330892 31.18252233 24.13708537 60.05804971]\n",
      "278.22291608533607\n"
     ]
    }
   ],
   "source": [
    "b = np.random.uniform(1,10,10)\n",
    "c = np.random.uniform(1,10,10)\n",
    "print(b*c)\n",
    "print(np.dot(b,c))"
   ]
  },
  {
   "cell_type": "code",
   "execution_count": 103,
   "metadata": {},
   "outputs": [
    {
     "data": {
      "text/plain": [
       "array([35.        , 62.58578644, 98.26794919])"
      ]
     },
     "execution_count": 103,
     "metadata": {},
     "output_type": "execute_result"
    }
   ],
   "source": [
    "a=np.array([1,2,3])\n",
    "b=np.array([5,6,7])\n",
    "(a+b)**2. - np.sqrt(a)"
   ]
  },
  {
   "cell_type": "code",
   "execution_count": null,
   "metadata": {},
   "outputs": [],
   "source": []
  }
 ],
 "metadata": {
  "kernelspec": {
   "display_name": "Python 3",
   "language": "python",
   "name": "python3"
  },
  "language_info": {
   "codemirror_mode": {
    "name": "ipython",
    "version": 3
   },
   "file_extension": ".py",
   "mimetype": "text/x-python",
   "name": "python",
   "nbconvert_exporter": "python",
   "pygments_lexer": "ipython3",
   "version": "3.7.6"
  }
 },
 "nbformat": 4,
 "nbformat_minor": 4
}
