{
 "cells": [
  {
   "cell_type": "code",
   "execution_count": 80,
   "metadata": {},
   "outputs": [],
   "source": [
    "import numpy as np\n",
    "import matplotlib.pyplot as plt\n",
    "from scipy.optimize import curve_fit"
   ]
  },
  {
   "cell_type": "code",
   "execution_count": 81,
   "metadata": {},
   "outputs": [],
   "source": [
    "np.random.seed(1729)\n",
    "data = np.random.power(2.,1000) # genero 1000 dati distribuiti come una legge di potenza"
   ]
  },
  {
   "cell_type": "code",
   "execution_count": 82,
   "metadata": {},
   "outputs": [
    {
     "data": {
      "text/plain": [
       "(array([  7.,   8.,   7.,  15.,  23.,  26.,  34.,  53.,  41.,  51.,  50.,\n",
       "         53.,  70.,  79.,  69.,  81.,  66.,  82.,  78., 107.]),\n",
       " array([0.03187143, 0.08021822, 0.128565  , 0.17691178, 0.22525856,\n",
       "        0.27360534, 0.32195212, 0.3702989 , 0.41864568, 0.46699246,\n",
       "        0.51533925, 0.56368603, 0.61203281, 0.66037959, 0.70872637,\n",
       "        0.75707315, 0.80541993, 0.85376671, 0.90211349, 0.95046027,\n",
       "        0.99880706]),\n",
       " <a list of 20 Patch objects>)"
      ]
     },
     "execution_count": 82,
     "metadata": {},
     "output_type": "execute_result"
    },
    {
     "data": {
      "image/png": "[encoded data removed]",
      "text/plain": [
       "<Figure size 432x288 with 1 Axes>"
      ]
     },
     "metadata": {
      "needs_background": "light"
     },
     "output_type": "display_data"
    }
   ],
   "source": [
    "plt.hist(data,20)"
   ]
  },
  {
   "cell_type": "code",
   "execution_count": 83,
   "metadata": {},
   "outputs": [],
   "source": [
    "d, bins = np.histogram(data,bins=20)\n",
    "dx = np.zeros(20)\n",
    "\n",
    "# devo definire un valore x per ogni valore della funzione istogramma - prendo il valore medio di ogni bin\n",
    "for i in range(20):\n",
    "    dx[i] = 0.5*(bins[i]+bins[i+1])"
   ]
  },
  {
   "cell_type": "code",
   "execution_count": 85,
   "metadata": {},
   "outputs": [
    {
     "data": {
      "text/plain": [
       "(array([  7.,   8.,   7.,  15.,  23.,  26.,  34.,  53.,  41.,  51.,  50.,\n",
       "         53.,  70.,  79.,  69.,  81.,  66.,  82.,  78., 107.]),\n",
       " array([0.03187143, 0.08021822, 0.128565  , 0.17691178, 0.22525856,\n",
       "        0.27360534, 0.32195212, 0.3702989 , 0.41864568, 0.46699246,\n",
       "        0.51533925, 0.56368603, 0.61203281, 0.66037959, 0.70872637,\n",
       "        0.75707315, 0.80541993, 0.85376671, 0.90211349, 0.95046027,\n",
       "        0.99880706]),\n",
       " <a list of 20 Patch objects>)"
      ]
     },
     "execution_count": 85,
     "metadata": {},
     "output_type": "execute_result"
    },
    {
     "data": {
      "image/png": "[encoded data removed]",
      "text/plain": [
       "<Figure size 432x288 with 1 Axes>"
      ]
     },
     "metadata": {
      "needs_background": "light"
     },
     "output_type": "display_data"
    }
   ],
   "source": [
    "plt.plot(dx,d) #ho creato il plot di f(x), dove f(x) è l'istogramma\n",
    "plt.hist(data,20) # giusto per farvi vedere che la f(x) è effettivamente l'istogramma"
   ]
  },
  {
   "cell_type": "markdown",
   "metadata": {},
   "source": [
    "# Power law\n",
    "$$ f(x) = A^{-\\beta x} + c $$"
   ]
  },
  {
   "cell_type": "code",
   "execution_count": 74,
   "metadata": {},
   "outputs": [],
   "source": [
    "def power_law(x,A,beta):\n",
    "    return A*x**(beta-1)"
   ]
  },
  {
   "cell_type": "code",
   "execution_count": 73,
   "metadata": {},
   "outputs": [],
   "source": [
    "popt, pcov = curve_fit(power_law,dx,d) # faccio il fit"
   ]
  },
  {
   "cell_type": "code",
   "execution_count": 75,
   "metadata": {},
   "outputs": [
    {
     "name": "stdout",
     "output_type": "stream",
     "text": [
      "[[2.44601627e+01 3.84174515e-01]\n",
      " [3.84174515e-01 1.19771357e-02]] [92.77797072  1.94662808]\n",
      "La stima di beta è : 1.946628 pm 0.109440\n"
     ]
    }
   ],
   "source": [
    "print(pcov,popt)\n",
    "print(\"La stima di beta è : %f pm %f\" % (popt[1],np.sqrt(pcov[1,1])))"
   ]
  },
  {
   "cell_type": "code",
   "execution_count": 77,
   "metadata": {},
   "outputs": [
    {
     "data": {
      "text/plain": [
       "[<matplotlib.lines.Line2D at 0x7fc44bdf1950>]"
      ]
     },
     "execution_count": 77,
     "metadata": {},
     "output_type": "execute_result"
    },
    {
     "data": {
      "image/png": "[encoded data removed]",
      "text/plain": [
       "<Figure size 432x288 with 1 Axes>"
      ]
     },
     "metadata": {
      "needs_background": "light"
     },
     "output_type": "display_data"
    }
   ],
   "source": [
    "plt.hist(data,20,histtype='step')\n",
    "plt.plot(dx, power_law(dx,popt[0],popt[1]))"
   ]
  },
  {
   "cell_type": "markdown",
   "metadata": {},
   "source": [
    "# Chi-squared\n",
    "\n",
    "$$ \\chi^2 = \\sum^N_{i+1}\\frac{(d_i-f(x_i))^2}{\\sigma_i} $$\n",
    "https://en.wikipedia.org/wiki/Chi-square_distribution"
   ]
  },
  {
   "cell_type": "code",
   "execution_count": null,
   "metadata": {},
   "outputs": [],
   "source": []
  }
 ],
 "metadata": {
  "kernelspec": {
   "display_name": "Python 3",
   "language": "python",
   "name": "python3"
  },
  "language_info": {
   "codemirror_mode": {
    "name": "ipython",
    "version": 3
   },
   "file_extension": ".py",
   "mimetype": "text/x-python",
   "name": "python",
   "nbconvert_exporter": "python",
   "pygments_lexer": "ipython3",
   "version": "3.7.6"
  }
 },
 "nbformat": 4,
 "nbformat_minor": 4
}
